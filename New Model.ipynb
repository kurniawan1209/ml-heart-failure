{
 "cells": [
  {
   "cell_type": "markdown",
   "metadata": {},
   "source": [
    "# Dataset Source\n",
    "\n",
    "https://www.kaggle.com/fedesoriano/heart-failure-prediction\n",
    "\n",
    "\n",
    "- Age: age of the patient [years]\n",
    "<br><br>\n",
    "- Sex: sex of the patient \n",
    "    - M: Male\n",
    "    - F: Female\n",
    "<br><br>\n",
    "- ChestPainType: chest pain type \n",
    "    - TA: Typical Angina\n",
    "    - ATA: Atypical Angina\n",
    "    - NAP: Non-Anginal Pain\n",
    "    - ASY: Asymptomatic<br>\n",
    "<br>\n",
    "- RestingBP: resting blood pressure [mm Hg]\n",
    "<br><br>\n",
    "- Cholesterol: serum cholesterol [mm/dl]\n",
    "<br><br>\n",
    "- FastingBS: fasting blood sugar \n",
    "    - 1: if FastingBS > 120 mg/dl \n",
    "    - 0: otherwise\n",
    "<br><br>\n",
    "- RestingECG: resting electrocardiogram results \n",
    "    - Normal: Normal\n",
    "    - ST: having ST-T wave abnormality (T wave inversions and/or ST elevation or depression of > 0.05 mV) \n",
    "    - LVH: showing probable or definite left ventricular hypertrophy by Estes' criteria\n",
    "<br><br>\n",
    "- MaxHR: maximum heart rate achieved [Numeric value between 60 and 202]\n",
    "<br><br>\n",
    "- ExerciseAngina: exercise-induced angina [Y: Yes, N: No]\n",
    "<br><br>\n",
    "- Oldpeak: oldpeak = ST [Numeric value measured in depression]\n",
    "<br><br>\n",
    "- ST_Slope: the slope of the peak exercise ST segment \n",
    "    - Up: upsloping, \n",
    "    - Flat: flat\n",
    "    - Down: downsloping\n",
    "<br><br>\n",
    "- HeartDisease: output class [1: heart disease, 0: Normal]\n"
   ]
  },
  {
   "cell_type": "markdown",
   "metadata": {},
   "source": [
    "# Import Packages"
   ]
  },
  {
   "cell_type": "code",
   "execution_count": 1,
   "metadata": {},
   "outputs": [],
   "source": [
    "import pandas as pd\n",
    "import matplotlib.pyplot as plt\n",
    "import seaborn as sns\n",
    "\n",
    "from jcopml.plot import plot_missing_value, plot_residual"
   ]
  },
  {
   "cell_type": "markdown",
   "metadata": {},
   "source": [
    "# Load Dataset"
   ]
  },
  {
   "cell_type": "code",
   "execution_count": 2,
   "metadata": {},
   "outputs": [
    {
     "data": {
      "text/html": [
       "<div>\n",
       "<style scoped>\n",
       "    .dataframe tbody tr th:only-of-type {\n",
       "        vertical-align: middle;\n",
       "    }\n",
       "\n",
       "    .dataframe tbody tr th {\n",
       "        vertical-align: top;\n",
       "    }\n",
       "\n",
       "    .dataframe thead th {\n",
       "        text-align: right;\n",
       "    }\n",
       "</style>\n",
       "<table border=\"1\" class=\"dataframe\">\n",
       "  <thead>\n",
       "    <tr style=\"text-align: right;\">\n",
       "      <th></th>\n",
       "      <th>Age</th>\n",
       "      <th>Sex</th>\n",
       "      <th>ChestPainType</th>\n",
       "      <th>RestingBP</th>\n",
       "      <th>Cholesterol</th>\n",
       "      <th>FastingBS</th>\n",
       "      <th>RestingECG</th>\n",
       "      <th>MaxHR</th>\n",
       "      <th>ExerciseAngina</th>\n",
       "      <th>Oldpeak</th>\n",
       "      <th>ST_Slope</th>\n",
       "      <th>HeartDisease</th>\n",
       "    </tr>\n",
       "  </thead>\n",
       "  <tbody>\n",
       "    <tr>\n",
       "      <th>0</th>\n",
       "      <td>40</td>\n",
       "      <td>M</td>\n",
       "      <td>ATA</td>\n",
       "      <td>140</td>\n",
       "      <td>289</td>\n",
       "      <td>0</td>\n",
       "      <td>Normal</td>\n",
       "      <td>172</td>\n",
       "      <td>N</td>\n",
       "      <td>0.0</td>\n",
       "      <td>Up</td>\n",
       "      <td>0</td>\n",
       "    </tr>\n",
       "    <tr>\n",
       "      <th>1</th>\n",
       "      <td>49</td>\n",
       "      <td>F</td>\n",
       "      <td>NAP</td>\n",
       "      <td>160</td>\n",
       "      <td>180</td>\n",
       "      <td>0</td>\n",
       "      <td>Normal</td>\n",
       "      <td>156</td>\n",
       "      <td>N</td>\n",
       "      <td>1.0</td>\n",
       "      <td>Flat</td>\n",
       "      <td>1</td>\n",
       "    </tr>\n",
       "    <tr>\n",
       "      <th>2</th>\n",
       "      <td>37</td>\n",
       "      <td>M</td>\n",
       "      <td>ATA</td>\n",
       "      <td>130</td>\n",
       "      <td>283</td>\n",
       "      <td>0</td>\n",
       "      <td>ST</td>\n",
       "      <td>98</td>\n",
       "      <td>N</td>\n",
       "      <td>0.0</td>\n",
       "      <td>Up</td>\n",
       "      <td>0</td>\n",
       "    </tr>\n",
       "    <tr>\n",
       "      <th>3</th>\n",
       "      <td>48</td>\n",
       "      <td>F</td>\n",
       "      <td>ASY</td>\n",
       "      <td>138</td>\n",
       "      <td>214</td>\n",
       "      <td>0</td>\n",
       "      <td>Normal</td>\n",
       "      <td>108</td>\n",
       "      <td>Y</td>\n",
       "      <td>1.5</td>\n",
       "      <td>Flat</td>\n",
       "      <td>1</td>\n",
       "    </tr>\n",
       "    <tr>\n",
       "      <th>4</th>\n",
       "      <td>54</td>\n",
       "      <td>M</td>\n",
       "      <td>NAP</td>\n",
       "      <td>150</td>\n",
       "      <td>195</td>\n",
       "      <td>0</td>\n",
       "      <td>Normal</td>\n",
       "      <td>122</td>\n",
       "      <td>N</td>\n",
       "      <td>0.0</td>\n",
       "      <td>Up</td>\n",
       "      <td>0</td>\n",
       "    </tr>\n",
       "  </tbody>\n",
       "</table>\n",
       "</div>"
      ],
      "text/plain": [
       "   Age Sex ChestPainType  ...  Oldpeak  ST_Slope  HeartDisease\n",
       "0   40   M           ATA  ...      0.0        Up             0\n",
       "1   49   F           NAP  ...      1.0      Flat             1\n",
       "2   37   M           ATA  ...      0.0        Up             0\n",
       "3   48   F           ASY  ...      1.5      Flat             1\n",
       "4   54   M           NAP  ...      0.0        Up             0\n",
       "\n",
       "[5 rows x 12 columns]"
      ]
     },
     "execution_count": 2,
     "metadata": {},
     "output_type": "execute_result"
    }
   ],
   "source": [
    "df = pd.read_csv('heart.csv')\n",
    "df.head()"
   ]
  },
  {
   "cell_type": "markdown",
   "metadata": {},
   "source": [
    "# Plot Missing Values"
   ]
  },
  {
   "cell_type": "code",
   "execution_count": 3,
   "metadata": {
    "scrolled": true
   },
   "outputs": [
    {
     "data": {
      "image/png": "[encoded data removed]",
      "text/plain": [
       "<Figure size 1080x576 with 1 Axes>"
      ]
     },
     "metadata": {
      "needs_background": "light"
     },
     "output_type": "display_data"
    }
   ],
   "source": [
    "plot_missing_value(df)"
   ]
  },
  {
   "cell_type": "markdown",
   "metadata": {},
   "source": [
    "# Splitting Dataset"
   ]
  },
  {
   "cell_type": "code",
   "execution_count": 8,
   "metadata": {},
   "outputs": [],
   "source": [
    "from sklearn.model_selection import train_test_split"
   ]
  },
  {
   "cell_type": "code",
   "execution_count": 11,
   "metadata": {},
   "outputs": [
    {
     "data": {
      "text/plain": [
       "((734, 11), (184, 11), (734,), (184,))"
      ]
     },
     "execution_count": 11,
     "metadata": {},
     "output_type": "execute_result"
    }
   ],
   "source": [
    "X = df.drop(columns=\"HeartDisease\")\n",
    "y = df.HeartDisease\n",
    "\n",
    "X_train, X_test, y_train, y_test = train_test_split(X, y, test_size=0.2, stratify=y, random_state=42)\n",
    "X_train.shape, X_test.shape, y_train.shape, y_test.shape"
   ]
  },
  {
   "cell_type": "markdown",
   "metadata": {},
   "source": [
    "# Make a model"
   ]
  },
  {
   "cell_type": "code",
   "execution_count": 22,
   "metadata": {},
   "outputs": [],
   "source": [
    "from sklearn.compose import ColumnTransformer\n",
    "from sklearn.ensemble import RandomForestClassifier\n",
    "from sklearn.pipeline import Pipeline\n",
    "\n",
    "from jcopml.pipeline import num_pipe, cat_pipe\n",
    "from jcopml.tuning import random_search_params as rsp"
   ]
  },
  {
   "cell_type": "markdown",
   "metadata": {},
   "source": [
    "## Random Forest"
   ]
  },
  {
   "cell_type": "code",
   "execution_count": 25,
   "metadata": {},
   "outputs": [],
   "source": [
    "from sklearn.model_selection import RandomizedSearchCV"
   ]
  },
  {
   "cell_type": "markdown",
   "metadata": {},
   "source": [
    "#### Without Polynomial"
   ]
  },
  {
   "cell_type": "code",
   "execution_count": 27,
   "metadata": {
    "scrolled": true
   },
   "outputs": [
    {
     "name": "stderr",
     "output_type": "stream",
     "text": [
      "[Parallel(n_jobs=-1)]: Using backend LokyBackend with 4 concurrent workers.\n",
      "[Parallel(n_jobs=-1)]: Done  64 tasks      | elapsed:   13.9s\n",
      "[Parallel(n_jobs=-1)]: Done 150 out of 150 | elapsed:   30.9s finished\n"
     ]
    },
    {
     "data": {
      "text/plain": [
       "Pipeline(steps=[('prep',\n",
       "                 ColumnTransformer(transformers=[('numeric',\n",
       "                                                  Pipeline(steps=[('imputer',\n",
       "                                                                   SimpleImputer(strategy='median')),\n",
       "                                                                  ('scaler',\n",
       "                                                                   StandardScaler())]),\n",
       "                                                  ['Age', 'RestingBP',\n",
       "                                                   'Cholesterol', 'MaxHR',\n",
       "                                                   'Oldpeak']),\n",
       "                                                 ('categoric',\n",
       "                                                  Pipeline(steps=[('imputer',\n",
       "                                                                   SimpleImputer(strategy='most_frequent')),\n",
       "                                                                  ('onehot',\n",
       "                                                                   OneHotEncoder(handle_unknown='ignore'))]),\n",
       "                                                  ['Sex', 'ChestPainType',\n",
       "                                                   'FastingBS', 'RestingECG',\n",
       "                                                   'ST_Slope'])])),\n",
       "                ('algo',\n",
       "                 RandomForestClassifier(max_depth=70,\n",
       "                                        max_features=0.12665579265871263,\n",
       "                                        min_samples_leaf=6,\n",
       "                                        n_estimators=103))])"
      ]
     },
     "execution_count": 27,
     "metadata": {},
     "output_type": "execute_result"
    }
   ],
   "source": [
    "preprocessor = ColumnTransformer([\n",
    "    (\"numeric\", num_pipe(scaling=\"standard\"), [\"Age\", \"RestingBP\", \"Cholesterol\", \"MaxHR\", \"Oldpeak\"]),\n",
    "    (\"categoric\", cat_pipe(encoder=\"onehot\"), [\"Sex\", \"ChestPainType\", \"FastingBS\", \"RestingECG\", \"ST_Slope\"])\n",
    "])\n",
    "\n",
    "pipeline = Pipeline([\n",
    "    (\"prep\", preprocessor),\n",
    "    (\"algo\", RandomForestClassifier())\n",
    "])\n",
    "\n",
    "rf_model = RandomizedSearchCV(pipeline, rsp.rf_params, cv=3, n_jobs=-1, verbose=-1, n_iter=50)\n",
    "rf_model.fit(X_train, y_train)\n",
    "rf_model.best_estimator_"
   ]
  },
  {
   "cell_type": "code",
   "execution_count": 28,
   "metadata": {},
   "outputs": [
    {
     "data": {
      "text/plain": [
       "(0.8937329700272479, 0.8586956521739131)"
      ]
     },
     "execution_count": 28,
     "metadata": {},
     "output_type": "execute_result"
    }
   ],
   "source": [
    "rf_model.score(X_train, y_train), model.score(X_test, y_test)"
   ]
  },
  {
   "cell_type": "markdown",
   "metadata": {},
   "source": [
    "### With Polynomial"
   ]
  },
  {
   "cell_type": "code",
   "execution_count": 29,
   "metadata": {},
   "outputs": [
    {
     "name": "stderr",
     "output_type": "stream",
     "text": [
      "[Parallel(n_jobs=-1)]: Using backend LokyBackend with 4 concurrent workers.\n",
      "[Parallel(n_jobs=-1)]: Done  64 tasks      | elapsed:   16.5s\n",
      "[Parallel(n_jobs=-1)]: Done 150 out of 150 | elapsed:   38.6s finished\n"
     ]
    },
    {
     "data": {
      "text/plain": [
       "Pipeline(steps=[('prep',\n",
       "                 ColumnTransformer(transformers=[('numeric',\n",
       "                                                  Pipeline(steps=[('imputer',\n",
       "                                                                   SimpleImputer(strategy='median')),\n",
       "                                                                  ('poly',\n",
       "                                                                   PolynomialFeatures(degree=1,\n",
       "                                                                                      interaction_only=True)),\n",
       "                                                                  ('scaler',\n",
       "                                                                   StandardScaler())]),\n",
       "                                                  ['Age', 'RestingBP',\n",
       "                                                   'Cholesterol', 'MaxHR',\n",
       "                                                   'Oldpeak']),\n",
       "                                                 ('categoric',\n",
       "                                                  Pipeline(steps=[('imputer',\n",
       "                                                                   SimpleImputer(strategy='most_frequent')),\n",
       "                                                                  ('onehot',\n",
       "                                                                   OneHotEncoder(handle_unknown='ignore'))]),\n",
       "                                                  ['Sex', 'ChestPainType',\n",
       "                                                   'FastingBS', 'RestingECG',\n",
       "                                                   'ST_Slope'])])),\n",
       "                ('algo',\n",
       "                 RandomForestClassifier(max_depth=45,\n",
       "                                        max_features=0.12220020344148262,\n",
       "                                        min_samples_leaf=3,\n",
       "                                        n_estimators=172))])"
      ]
     },
     "execution_count": 29,
     "metadata": {},
     "output_type": "execute_result"
    }
   ],
   "source": [
    "preprocessor = ColumnTransformer([\n",
    "    (\"numeric\", num_pipe(scaling=\"standard\", poly=2), [\"Age\", \"RestingBP\", \"Cholesterol\", \"MaxHR\", \"Oldpeak\"]),\n",
    "    (\"categoric\", cat_pipe(encoder=\"onehot\"), [\"Sex\", \"ChestPainType\", \"FastingBS\", \"RestingECG\", \"ST_Slope\"])\n",
    "])\n",
    "\n",
    "pipeline = Pipeline([\n",
    "    (\"prep\", preprocessor),\n",
    "    (\"algo\", RandomForestClassifier())\n",
    "])\n",
    "\n",
    "rf_poly_model = RandomizedSearchCV(pipeline, rsp.rf_poly_params, cv=3, n_jobs=-1, verbose=-1, n_iter=50)\n",
    "rf_poly_model.fit(X_train, y_train)\n",
    "rf_poly_model.best_estimator_"
   ]
  },
  {
   "cell_type": "code",
   "execution_count": 30,
   "metadata": {},
   "outputs": [
    {
     "data": {
      "text/plain": [
       "(0.9209809264305178, 0.8586956521739131)"
      ]
     },
     "execution_count": 30,
     "metadata": {},
     "output_type": "execute_result"
    }
   ],
   "source": [
    "rf_poly_model.score(X_train, y_train), model.score(X_test, y_test)"
   ]
  },
  {
   "cell_type": "code",
   "execution_count": null,
   "metadata": {},
   "outputs": [],
   "source": []
  },
  {
   "cell_type": "code",
   "execution_count": null,
   "metadata": {},
   "outputs": [],
   "source": []
  }
 ],
 "metadata": {
  "kernelspec": {
   "display_name": "Python 3 (ipykernel)",
   "language": "python",
   "name": "python3"
  },
  "language_info": {
   "codemirror_mode": {
    "name": "ipython",
    "version": 3
   },
   "file_extension": ".py",
   "mimetype": "text/x-python",
   "name": "python",
   "nbconvert_exporter": "python",
   "pygments_lexer": "ipython3",
   "version": "3.8.10"
  }
 },
 "nbformat": 4,
 "nbformat_minor": 4
}
